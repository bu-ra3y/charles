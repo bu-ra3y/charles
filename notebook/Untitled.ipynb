{
 "cells": [
  {
   "cell_type": "code",
   "execution_count": 12,
   "metadata": {},
   "outputs": [],
   "source": [
    "import paths\n",
    "from IPython.core.interactiveshell import InteractiveShell\n",
    "InteractiveShell.ast_node_interactivity = \"all\""
   ]
  },
  {
   "cell_type": "code",
   "execution_count": 4,
   "metadata": {},
   "outputs": [],
   "source": [
    "from web.app import *\n",
    "\n"
   ]
  },
  {
   "cell_type": "code",
   "execution_count": 18,
   "metadata": {},
   "outputs": [
    {
     "data": {
      "text/plain": [
       "53"
      ]
     },
     "execution_count": 18,
     "metadata": {},
     "output_type": "execute_result"
    },
    {
     "data": {
      "text/plain": [
       "array(['BOD5', 'CBOD5', 'Chlorophyll a', 'Chloride', 'Chromium (total)',\n",
       "       'Chromium (dissolved)', 'Copper (total)', 'Copper (dissolved)',\n",
       "       'Escherichia coli', 'Enterococcus', 'Fecal Coliform', 'Fluoride',\n",
       "       'Potassium (total)', 'Nitrate-Nitrite', 'Sodium ',\n",
       "       'Ammonia, Dissolved ', 'Nitrite', 'Nitrate', 'Oil & Grease',\n",
       "       'Orthophosphate, Dissolved', 'Lead (total)', 'Lead (dissolved)',\n",
       "       'Surfactants, anionic', 'Total Dissolved Solids (TDS)',\n",
       "       'Total Kjeldahl Nitrogen (Organic Nitrogen + Ammonia)',\n",
       "       'Total Nitrogen (TKN + Nitrate + Nitrite)', 'Total Organic Carbon',\n",
       "       'Total Phosphorus', 'Total Petroleum Hydrocarbon',\n",
       "       'Total Suspended Solids (TSS)', 'Total Volatile Solids',\n",
       "       'Zinc (total)', 'Zinc (dissolved)', nan, 'Detergents', 'Ammonia',\n",
       "       'Chlorine', 'Depth', 'Barometric Pressure', 'Dissolved Oxygen',\n",
       "       'Phycocyanin cell count', 'Phycocyanin voltage', 'pH', 'Salinity',\n",
       "       'Specific conductance', 'Temperature', 'Cyanobacteria cell counts',\n",
       "       'Extracellular Cyanotoxin', 'Intracellular Cyanotoxin',\n",
       "       'Phaeophytin ', 'Water Clarity', 'Oxidation Reduction Potential',\n",
       "       'Conductivity'], dtype=object)"
      ]
     },
     "execution_count": 18,
     "metadata": {},
     "output_type": "execute_result"
    },
    {
     "data": {
      "text/plain": [
       "['BOD5',\n",
       " 'CBOD5',\n",
       " 'Chlorophyll a',\n",
       " 'Chloride',\n",
       " 'Chromium (total)',\n",
       " 'Chromium (dissolved)',\n",
       " 'Copper (total)',\n",
       " 'Copper (dissolved)',\n",
       " 'Escherichia coli',\n",
       " 'Enterococcus',\n",
       " 'Fecal Coliform',\n",
       " 'Fluoride',\n",
       " 'Potassium (total)',\n",
       " 'Nitrate-Nitrite',\n",
       " 'Sodium ',\n",
       " 'Ammonia, Dissolved ',\n",
       " 'Nitrite',\n",
       " 'Nitrate',\n",
       " 'Oil & Grease',\n",
       " 'Orthophosphate, Dissolved',\n",
       " 'Lead (total)',\n",
       " 'Lead (dissolved)',\n",
       " 'Surfactants, anionic',\n",
       " 'Total Dissolved Solids (TDS)',\n",
       " 'Total Kjeldahl Nitrogen (Organic Nitrogen + Ammonia)',\n",
       " 'Total Nitrogen (TKN + Nitrate + Nitrite)',\n",
       " 'Total Organic Carbon',\n",
       " 'Total Phosphorus',\n",
       " 'Total Petroleum Hydrocarbon',\n",
       " 'Total Suspended Solids (TSS)',\n",
       " 'Total Volatile Solids',\n",
       " 'Zinc (total)',\n",
       " 'Zinc (dissolved)',\n",
       " 'Detergents',\n",
       " 'Ammonia',\n",
       " 'Chlorine',\n",
       " 'Depth',\n",
       " 'Barometric Pressure',\n",
       " 'Dissolved Oxygen',\n",
       " 'Phycocyanin cell count',\n",
       " 'Phycocyanin voltage',\n",
       " 'pH',\n",
       " 'Salinity',\n",
       " 'Specific conductance',\n",
       " 'Temperature',\n",
       " 'Cyanobacteria cell counts',\n",
       " 'Extracellular Cyanotoxin',\n",
       " 'Intracellular Cyanotoxin',\n",
       " 'Phaeophytin ',\n",
       " 'Water Clarity',\n",
       " 'Oxidation Reduction Potential',\n",
       " 'Conductivity']"
      ]
     },
     "execution_count": 18,
     "metadata": {},
     "output_type": "execute_result"
    }
   ],
   "source": [
    "m = load_methods()\n",
    "\n",
    "ps = m.Parameter.unique()\n",
    "len(ps)\n",
    "ps\n",
    "[i for i in ps if isinstance(i, str)]"
   ]
  }
 ],
 "metadata": {
  "kernelspec": {
   "display_name": "Python 3",
   "language": "python",
   "name": "python3"
  },
  "language_info": {
   "codemirror_mode": {
    "name": "ipython",
    "version": 3
   },
   "file_extension": ".py",
   "mimetype": "text/x-python",
   "name": "python",
   "nbconvert_exporter": "python",
   "pygments_lexer": "ipython3",
   "version": "3.7.3"
  }
 },
 "nbformat": 4,
 "nbformat_minor": 2
}
